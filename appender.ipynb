{
 "cells": [
  {
   "cell_type": "markdown",
   "metadata": {},
   "source": [
    "Appender file"
   ]
  },
  {
   "cell_type": "code",
   "execution_count": null,
   "metadata": {},
   "outputs": [],
   "source": [
    "import pandas as pd \n",
    "import numpy as np \n",
    "import geopandas as gpd \n",
    "import xarray as xr \n",
    "import rioxarray as rxr"
   ]
  },
  {
   "cell_type": "markdown",
   "metadata": {},
   "source": [
    "Master file - contains a template for Geojson \\\n",
    "df - reads the geojson file from planner, adds some columns, formats it \\\n",
    "df and master file is merged and updated file is written back to master file "
   ]
  },
  {
   "cell_type": "code",
   "execution_count": null,
   "metadata": {},
   "outputs": [],
   "source": [
    "# Reading master file\n",
    "master = gpd.read_file('Master_file')\n",
    "master\n",
    "# Determine the starting ID based on the master file\n",
    "if not master.empty and 'id' in master.columns:\n",
    "    # Ensure we get a valid maximum id (if the id column is numeric)\n",
    "    max_id = master['id'].max() if pd.notna(master['id'].max()) else 0\n",
    "else:\n",
    "    max_id = 0\n",
    "\n",
    "# Read the new file here\n",
    "df = gpd.read_file('Planner_output.geojson') # the file name has to be dynamic as per planner files\n",
    "df['centroid']=df.to_crs('+proj=cea').centroid.to_crs(df.crs)\n",
    "df['simulation_status'] = None\n",
    "df['completion_date'] = pd.NaT  # Setting it as a datetime type\n",
    "df['expiration_date'] = pd.NaT\n",
    "df['satellite'] = None\n",
    "df.insert(0, 'id', range(max_id + 1, max_id + 1 + len(df)))\n",
    "# df.insert(0, 'id', range(1, len(df) + 1))\n",
    "df['polygon_groundtrack'] = None\n",
    "df['latitude'] = df['centroid'].y\n",
    "df['longitude'] = df['centroid'].x\n",
    "df['Planner_geometry'] = df['geometry'].to_wkt()\n",
    "df['centroid'] = df['centroid'].to_wkt()\n",
    "df.drop('geometry', axis=1, inplace=True)\n",
    "df.rename(columns={'polygon_groundtrack': 'geometry'}, inplace=True)\n",
    "# Order\n",
    "df = df.loc[:, ['id','time' ,'final_eta', 'Planner_geometry','centroid','latitude','longitude','expiration_date','simulation_status','completion_date','satellite','geometry']]\n",
    "combined_gdf = pd.concat([master, df], ignore_index=True)\n",
    "combined_gdf = combined_gdf.set_crs(epsg=4326)\n",
    "combined_gdf.to_file(\"Master_file\", driver=\"GeoJSON\")\n",
    "combined_gdf"
   ]
  }
 ],
 "metadata": {
  "language_info": {
   "name": "python"
  }
 },
 "nbformat": 4,
 "nbformat_minor": 2
}
